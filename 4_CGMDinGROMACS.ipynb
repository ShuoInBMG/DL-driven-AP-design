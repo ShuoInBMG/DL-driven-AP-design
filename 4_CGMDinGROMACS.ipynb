{
 "cells": [
  {
   "cell_type": "code",
   "execution_count": 1,
   "id": "66aa439a-def1-4c48-a4b4-b4daef267e48",
   "metadata": {},
   "outputs": [],
   "source": [
    "import os\n",
    "import shutil\n",
    "from code.data_path import *\n",
    "import subprocess"
   ]
  },
  {
   "cell_type": "code",
   "execution_count": 2,
   "id": "35a090bb-545c-4e8e-9ffb-b9f1b4f09d0b",
   "metadata": {},
   "outputs": [],
   "source": [
    "my_path = path(work_path=\"default\",\n",
    "               martini_path=\"default\",\n",
    "               proc=2000)"
   ]
  },
  {
   "cell_type": "code",
   "execution_count": 3,
   "id": "43709a03-f7db-4840-b503-310617742deb",
   "metadata": {},
   "outputs": [],
   "source": [
    "md = do_simulation(my_path, nmol=80)"
   ]
  },
  {
   "cell_type": "code",
   "execution_count": 4,
   "id": "659a6caa-3b11-4f21-bc8c-59076e82d3d1",
   "metadata": {},
   "outputs": [],
   "source": [
    "md.command_6()"
   ]
  },
  {
   "cell_type": "code",
   "execution_count": null,
   "id": "a68b8ee5-b6fa-4e7f-9a79-c29f5839ee11",
   "metadata": {},
   "outputs": [],
   "source": [
    "md.command_7()"
   ]
  },
  {
   "cell_type": "code",
   "execution_count": 6,
   "id": "b3eac8e8-a83d-4283-a27d-99504518d09d",
   "metadata": {},
   "outputs": [
    {
     "name": "stdout",
     "output_type": "stream",
     "text": [
      "AP: 1.9061\n"
     ]
    }
   ],
   "source": [
    "md.command_8()"
   ]
  }
 ],
 "metadata": {
  "kernelspec": {
   "display_name": "Python 3 (ipykernel)",
   "language": "python",
   "name": "python3"
  },
  "language_info": {
   "codemirror_mode": {
    "name": "ipython",
    "version": 3
   },
   "file_extension": ".py",
   "mimetype": "text/x-python",
   "name": "python",
   "nbconvert_exporter": "python",
   "pygments_lexer": "ipython3",
   "version": "3.10.11"
  }
 },
 "nbformat": 4,
 "nbformat_minor": 5
}
